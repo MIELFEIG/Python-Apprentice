{
 "cells": [
  {
   "cell_type": "markdown",
   "metadata": {},
   "source": []
  },
  {
   "cell_type": "markdown",
   "metadata": {
    "vscode": {
     "languageId": "plaintext"
    }
   },
   "source": [
    "The code \n",
    "\n",
    "```python \n",
    "tina.forward(150)\n",
    "tina.left(90)\n",
    "\n",
    "```\n",
    "\n",
    "gets repeated 4 times. That doesn't seem right!\n",
    "\n",
    "We can improve this code with a loop. Here is an example of a loop:\n",
    "\n",
    "( Remember that you can run it; click the  \"▶️\" on the left. \n",
    " ) "
   ]
  },
  {
   "cell_type": "code",
   "execution_count": 1,
   "metadata": {},
   "outputs": [
    {
     "name": "stdout",
     "output_type": "stream",
     "text": [
      "Loop Iteration 0\n",
      "Loop Iteration 1\n",
      "Loop Iteration 2\n",
      "Loop Iteration 3\n"
     ]
    }
   ],
   "source": [
    "# For loop; try ganing the number of iterations to 6\n",
    "for i in range(4):\n",
    "    print('Loop Iteration', i)"
   ]
  },
  {
   "cell_type": "markdown",
   "metadata": {},
   "source": [
    "Notice that the number of iterations is the number inside of the parenthesies in\n",
    "`range()`. Also notice that the `print` statement is indented below the `for` loop\n",
    "line. Indenting is how you tell python what lines of code should be repeated. \n",
    "\n",
    "The `i` in the line `for i in range(4)` is a variable; it will hold the number of the \n",
    "iteration, starting at 0. For most of our loops in this module we won't use the \n",
    "variable, but we will study it more in  a later module. \n",
    "\n",
    "\n",
    "Now try updating the next program ``05_Loop_with_Turtle.py`` with a loop. "
   ]
  },
  {
   "cell_type": "code",
   "execution_count": null,
   "metadata": {},
   "outputs": [],
   "source": []
  }
 ],
 "metadata": {
  "kernelspec": {
   "display_name": ".venv",
   "language": "python",
   "name": "python3"
  },
  "language_info": {
   "codemirror_mode": {
    "name": "ipython",
    "version": 3
   },
   "file_extension": ".py",
   "mimetype": "text/x-python",
   "name": "python",
   "nbconvert_exporter": "python",
   "pygments_lexer": "ipython3",
   "version": "3.12.4"
  }
 },
 "nbformat": 4,
 "nbformat_minor": 2
}
